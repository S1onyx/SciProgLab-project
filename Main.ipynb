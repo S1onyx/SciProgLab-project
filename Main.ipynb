{
 "cells": [
  {
   "cell_type": "markdown",
   "id": "4799e18f",
   "metadata": {},
   "source": [
    "# Kapitel 0: Einleitung und Überblick"
   ]
  },
  {
   "cell_type": "markdown",
   "id": "3c54e3fa",
   "metadata": {},
   "source": []
  },
  {
   "cell_type": "markdown",
   "id": "217e59ca",
   "metadata": {},
   "source": [
    "# Kapitel 1: Riemann-Integrale mit Ober- und Untersummen, Trapezregel"
   ]
  },
  {
   "cell_type": "markdown",
   "id": "23417251",
   "metadata": {},
   "source": []
  },
  {
   "cell_type": "markdown",
   "id": "d97c62a8",
   "metadata": {},
   "source": [
    "# Kapitel 2: Monte-Carlo-Integration"
   ]
  },
  {
   "cell_type": "markdown",
   "id": "5d2898f5",
   "metadata": {},
   "source": [
    "# Kapitel 3: Visualisierung der Ergebnisse"
   ]
  },
  {
   "cell_type": "markdown",
   "id": "32e8bf82",
   "metadata": {},
   "source": [
    "# Kapitel 4: Testfälle und Evaluation"
   ]
  },
  {
   "cell_type": "markdown",
   "id": "5d7d3eb3",
   "metadata": {},
   "source": [
    "# Kapitel 5: Grenzen numerischer Integration"
   ]
  },
  {
   "cell_type": "markdown",
   "id": "b97b19d1",
   "metadata": {},
   "source": [
    "# Kapitel 6: Fakultativ: Gaußsche Fehlerfunktion"
   ]
  },
  {
   "cell_type": "markdown",
   "id": "0da9f53c",
   "metadata": {},
   "source": [
    "# Kapitel 7: Zusammenfassung und Fazit"
   ]
  },
  {
   "cell_type": "markdown",
   "id": "e5de5b5c",
   "metadata": {},
   "source": [
    "## Anhang: Quellen, Anmerkungen, Gruppenmitglieder"
   ]
  }
 ],
 "metadata": {
  "kernelspec": {
   "display_name": "jupyter",
   "language": "python",
   "name": "python3"
  },
  "language_info": {
   "codemirror_mode": {
    "name": "ipython",
    "version": 3
   },
   "file_extension": ".py",
   "mimetype": "text/x-python",
   "name": "python",
   "nbconvert_exporter": "python",
   "pygments_lexer": "ipython3",
   "version": "3.11.4"
  }
 },
 "nbformat": 4,
 "nbformat_minor": 5
}
